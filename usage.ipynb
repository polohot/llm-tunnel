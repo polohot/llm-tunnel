{
 "cells": [
  {
   "cell_type": "code",
   "execution_count": null,
   "metadata": {},
   "outputs": [],
   "source": [
    "# RUN THE MAIN API IN LOCAL\n",
    "# uvicorn main:app\n",
    "\n",
    "# RUN COMMAND ON KOYEB\n",
    "# uvicorn main:app --host 0.0.0.0"
   ]
  },
  {
   "cell_type": "code",
   "execution_count": 7,
   "metadata": {},
   "outputs": [],
   "source": [
    "import os\n",
    "from dotenv import load_dotenv\n",
    "import requests\n",
    "load_dotenv()\n",
    "openai_apikey = os.getenv(\"OPENAI_API_KEY\")\n",
    "llama_cloud_apikey = os.getenv(\"LLAMA_CLOUD_API_KEY\")"
   ]
  },
  {
   "cell_type": "code",
   "execution_count": 8,
   "metadata": {},
   "outputs": [
    {
     "data": {
      "text/plain": [
       "{'id': 'chatcmpl-Bg45puFPULWQ5NMfiz56FwXRktnOk',\n",
       " 'object': 'chat.completion',\n",
       " 'created': 1749365209,\n",
       " 'model': 'gpt-4o-2024-08-06',\n",
       " 'choices': [{'index': 0,\n",
       "   'message': {'role': 'assistant',\n",
       "    'content': '3 + 5 equals 8.',\n",
       "    'refusal': None,\n",
       "    'annotations': []},\n",
       "   'logprobs': None,\n",
       "   'finish_reason': 'stop'}],\n",
       " 'usage': {'prompt_tokens': 43,\n",
       "  'completion_tokens': 8,\n",
       "  'total_tokens': 51,\n",
       "  'prompt_tokens_details': {'cached_tokens': 0, 'audio_tokens': 0},\n",
       "  'completion_tokens_details': {'reasoning_tokens': 0,\n",
       "   'audio_tokens': 0,\n",
       "   'accepted_prediction_tokens': 0,\n",
       "   'rejected_prediction_tokens': 0}},\n",
       " 'service_tier': 'default',\n",
       " 'system_fingerprint': 'fp_07871e2ad8'}"
      ]
     },
     "execution_count": 8,
     "metadata": {},
     "output_type": "execute_result"
    }
   ],
   "source": [
    "import requests\n",
    "url = \"http://127.0.0.1:8000/openai\"\n",
    "body = {\n",
    "    \"model\": \"gpt-4o\",\n",
    "    \"messages\": [\n",
    "        {'role': 'system', 'content': 'You are a helpful assistant.'},\n",
    "        {'role': 'user', 'content': 'Hello!'},\n",
    "        {'role': 'assistant', 'content': 'Hello! How can I assist you today?'},\n",
    "        {'role': 'user', 'content': 'What is 3+5?'},\n",
    "    ],\n",
    "    \"max_tokens\": 1000\n",
    "}\n",
    "response = requests.post(url, json=body, params={\"apikey\": openai_apikey})\n",
    "response.json()"
   ]
  },
  {
   "cell_type": "code",
   "execution_count": 10,
   "metadata": {},
   "outputs": [
    {
     "data": {
      "text/plain": [
       "{'id': 'chatcmpl-Bg4605NKcxar2FiQzBMPQg9Eqyx1f',\n",
       " 'object': 'chat.completion',\n",
       " 'created': 1749365220,\n",
       " 'model': 'gpt-4o-2024-08-06',\n",
       " 'choices': [{'index': 0,\n",
       "   'message': {'role': 'assistant',\n",
       "    'content': '3 + 5 equals 8.',\n",
       "    'refusal': None,\n",
       "    'annotations': []},\n",
       "   'logprobs': None,\n",
       "   'finish_reason': 'stop'}],\n",
       " 'usage': {'prompt_tokens': 14,\n",
       "  'completion_tokens': 8,\n",
       "  'total_tokens': 22,\n",
       "  'prompt_tokens_details': {'cached_tokens': 0, 'audio_tokens': 0},\n",
       "  'completion_tokens_details': {'reasoning_tokens': 0,\n",
       "   'audio_tokens': 0,\n",
       "   'accepted_prediction_tokens': 0,\n",
       "   'rejected_prediction_tokens': 0}},\n",
       " 'service_tier': 'default',\n",
       " 'system_fingerprint': 'fp_07871e2ad8'}"
      ]
     },
     "execution_count": 10,
     "metadata": {},
     "output_type": "execute_result"
    }
   ],
   "source": [
    "import requests\n",
    "url = \"http://127.0.0.1:8000/openai\"\n",
    "body = {\n",
    "    \"model\": \"gpt-4o\",\n",
    "    \"messages\": [\n",
    "        {'role': 'user', 'content': 'What is 3+5?'},\n",
    "    ],\n",
    "    \"max_tokens\": 1000\n",
    "}\n",
    "response = requests.post(url, json=body, params={\"apikey\": openai_apikey})\n",
    "response.json()"
   ]
  },
  {
   "cell_type": "code",
   "execution_count": 11,
   "metadata": {},
   "outputs": [
    {
     "data": {
      "text/plain": [
       "{'id': 'chatcmpl-Bg466bHkUd76nM3SJUMBG8ssOm83N',\n",
       " 'object': 'chat.completion',\n",
       " 'created': 1749365226,\n",
       " 'model': 'gpt-4o-2024-08-06',\n",
       " 'choices': [{'index': 0,\n",
       "   'message': {'role': 'assistant',\n",
       "    'content': '3 + 5 equals 8.',\n",
       "    'refusal': None,\n",
       "    'annotations': []},\n",
       "   'logprobs': None,\n",
       "   'finish_reason': 'stop'}],\n",
       " 'usage': {'prompt_tokens': 13,\n",
       "  'completion_tokens': 8,\n",
       "  'total_tokens': 21,\n",
       "  'prompt_tokens_details': {'cached_tokens': 0, 'audio_tokens': 0},\n",
       "  'completion_tokens_details': {'reasoning_tokens': 0,\n",
       "   'audio_tokens': 0,\n",
       "   'accepted_prediction_tokens': 0,\n",
       "   'rejected_prediction_tokens': 0}},\n",
       " 'service_tier': 'default',\n",
       " 'system_fingerprint': 'fp_07871e2ad8'}"
      ]
     },
     "execution_count": 11,
     "metadata": {},
     "output_type": "execute_result"
    }
   ],
   "source": [
    "url = \"http://127.0.0.1:8000/openai_single\"\n",
    "question = 'what is 3+5'\n",
    "response = requests.post(url, params={\"apikey\": openai_apikey, 'question': question})\n",
    "response.json()"
   ]
  },
  {
   "cell_type": "code",
   "execution_count": 12,
   "metadata": {},
   "outputs": [
    {
     "data": {
      "text/plain": [
       "{'id': 'chatcmpl-Bg46B8PRkvD4HqxUB9hFkQDZXHaZW',\n",
       " 'object': 'chat.completion',\n",
       " 'created': 1749365231,\n",
       " 'model': 'gpt-4o-2024-08-06',\n",
       " 'choices': [{'index': 0,\n",
       "   'message': {'role': 'assistant',\n",
       "    'content': '3 + 5 equals 8.',\n",
       "    'refusal': None,\n",
       "    'annotations': []},\n",
       "   'logprobs': None,\n",
       "   'finish_reason': 'stop'}],\n",
       " 'usage': {'prompt_tokens': 13,\n",
       "  'completion_tokens': 8,\n",
       "  'total_tokens': 21,\n",
       "  'prompt_tokens_details': {'cached_tokens': 0, 'audio_tokens': 0},\n",
       "  'completion_tokens_details': {'reasoning_tokens': 0,\n",
       "   'audio_tokens': 0,\n",
       "   'accepted_prediction_tokens': 0,\n",
       "   'rejected_prediction_tokens': 0}},\n",
       " 'service_tier': 'default',\n",
       " 'system_fingerprint': 'fp_07871e2ad8'}"
      ]
     },
     "execution_count": 12,
     "metadata": {},
     "output_type": "execute_result"
    }
   ],
   "source": [
    "url = \"https://ancient-almeda-personal-personal-22e19704.koyeb.app/openai_single\"\n",
    "question = 'what is 3+5'\n",
    "response = requests.post(url, params={\"apikey\": openai_apikey, 'question': question})\n",
    "response.json()"
   ]
  },
  {
   "cell_type": "code",
   "execution_count": 22,
   "metadata": {},
   "outputs": [],
   "source": [
    "import requests\n",
    "url = \"http://127.0.0.1:8000/llama_parse_batch\"\n",
    "files = [\n",
    "    ('files', ('PDF1.pdf', open('PDF1.pdf', 'rb'), 'application/pdf')),\n",
    "    ('files', ('PDF2.pdf', open('PDF2.pdf', 'rb'), 'application/pdf')),\n",
    "]\n",
    "data = {\n",
    "    \"apikey\": llama_cloud_apikey\n",
    "}\n",
    "response = requests.post(url, data=data, files=files)"
   ]
  },
  {
   "cell_type": "code",
   "execution_count": null,
   "metadata": {},
   "outputs": [],
   "source": []
  }
 ],
 "metadata": {
  "kernelspec": {
   "display_name": "py312-llm-tunnel",
   "language": "python",
   "name": "python3"
  },
  "language_info": {
   "codemirror_mode": {
    "name": "ipython",
    "version": 3
   },
   "file_extension": ".py",
   "mimetype": "text/x-python",
   "name": "python",
   "nbconvert_exporter": "python",
   "pygments_lexer": "ipython3",
   "version": "3.12.9"
  }
 },
 "nbformat": 4,
 "nbformat_minor": 2
}
